{
 "cells": [
  {
   "cell_type": "markdown",
   "id": "e41c6b75",
   "metadata": {},
   "source": [
    "#### Fundamentos de Python\n",
    "* Variables\n",
    "* Operadores matematicos\n",
    "* Operadores logicos\n",
    "* Operadores de comparacion\n",
    "* Condicionales\n",
    "    - Simples\n",
    "    - Compuestos\n",
    "    - Anidados\n",
    "    - Encadenados\n",
    "* Ciclos\n",
    "    - Finitos (for)\n",
    "    - Infinitos (while)\n",
    "* Funciones\n",
    "* Estructuras de datos\n",
    "    - Caracteres\n",
    "    - Enteros\n",
    "    - Flotantes\n",
    "    - Listas\n",
    "    - Diccionarios\n",
    "    - Tuplas\n",
    "* Fundamentos de (POO)"
   ]
  },
  {
   "cell_type": "code",
   "execution_count": 1,
   "id": "197c09e3",
   "metadata": {},
   "outputs": [
    {
     "name": "stdout",
     "output_type": "stream",
     "text": [
      "salida\n"
     ]
    }
   ],
   "source": [
    "print(\"salida\")"
   ]
  },
  {
   "cell_type": "code",
   "execution_count": 2,
   "id": "aec1b5b2",
   "metadata": {},
   "outputs": [
    {
     "name": "stdout",
     "output_type": "stream",
     "text": [
      "Juan\n",
      "21\n"
     ]
    }
   ],
   "source": [
    "# variables\n",
    "name = \"Juan\"\n",
    "age = 21    \n",
    "\n",
    "print(name)\n",
    "print(age)  "
   ]
  },
  {
   "cell_type": "code",
   "execution_count": 3,
   "id": "8dbd6e08",
   "metadata": {},
   "outputs": [
    {
     "data": {
      "text/plain": [
       "'Juan'"
      ]
     },
     "execution_count": 3,
     "metadata": {},
     "output_type": "execute_result"
    }
   ],
   "source": [
    "name"
   ]
  },
  {
   "cell_type": "code",
   "execution_count": 4,
   "id": "57cf5b79",
   "metadata": {},
   "outputs": [],
   "source": [
    "last_name = \"Pérez\""
   ]
  },
  {
   "cell_type": "code",
   "execution_count": 5,
   "id": "11a751b9",
   "metadata": {},
   "outputs": [],
   "source": [
    "Last_Name = \"Pérez\""
   ]
  },
  {
   "cell_type": "code",
   "execution_count": 6,
   "id": "ce35469d",
   "metadata": {},
   "outputs": [],
   "source": [
    "#last.name = \"Pérez\" # error because you cannot use . for a variable name"
   ]
  },
  {
   "cell_type": "code",
   "execution_count": 7,
   "id": "b4ec180e",
   "metadata": {},
   "outputs": [],
   "source": [
    "NAME = \"Juan\""
   ]
  },
  {
   "cell_type": "code",
   "execution_count": 8,
   "id": "b0eee846",
   "metadata": {},
   "outputs": [],
   "source": [
    "# operadores matemáticos\n",
    "suma = 2 + 3\n",
    "resta = 5 - 2\n",
    "multiplicacion = 2 * 3\n",
    "division = 6 / 3\n",
    "\n",
    "\n",
    "modulo = 5 % 2\n",
    "potencia = 2 ** 3\n",
    "division_entera = 5 // 2\n"
   ]
  },
  {
   "cell_type": "code",
   "execution_count": 9,
   "id": "35903cd6",
   "metadata": {},
   "outputs": [],
   "source": [
    "number1 = 12\n",
    "number2 = 20\n"
   ]
  },
  {
   "cell_type": "code",
   "execution_count": 10,
   "id": "5517f469",
   "metadata": {},
   "outputs": [
    {
     "name": "stdout",
     "output_type": "stream",
     "text": [
      "(32, 24)\n",
      "-8 240 0.6\n"
     ]
    }
   ],
   "source": [
    "suma = (number1 + number2) , (number1 + number1)\n",
    "resta = number1 - number2\n",
    "multiplicacion = number1 * number2\n",
    "division = number1 / number2\n",
    "\n",
    "print(suma)\n",
    "print(resta, multiplicacion, division)"
   ]
  },
  {
   "cell_type": "code",
   "execution_count": 11,
   "id": "a654e770",
   "metadata": {},
   "outputs": [
    {
     "name": "stdout",
     "output_type": "stream",
     "text": [
      "Juan Pérez\n",
      "La suma es: (32, 24)\n"
     ]
    }
   ],
   "source": [
    "print(name + \" \" + last_name)  # concatenación de cadenas\n",
    "print(\"La suma es: \" + str(suma))   "
   ]
  },
  {
   "cell_type": "code",
   "execution_count": 12,
   "id": "f6a70513",
   "metadata": {},
   "outputs": [
    {
     "name": "stdout",
     "output_type": "stream",
     "text": [
      "(32, 24)\n",
      "-8\n"
     ]
    }
   ],
   "source": [
    "print(suma)\n",
    "print(resta)"
   ]
  },
  {
   "cell_type": "code",
   "execution_count": 13,
   "id": "422963fd",
   "metadata": {},
   "outputs": [
    {
     "name": "stdout",
     "output_type": "stream",
     "text": [
      "El resultado de la suma es: (32, 24)\n",
      "El resultado de la resta es: -8\n"
     ]
    }
   ],
   "source": [
    "print(f\"El resultado de la suma es: {suma}\")  # f-string\n",
    "print(f\"El resultado de la resta es: {resta}\")  "
   ]
  },
  {
   "cell_type": "code",
   "execution_count": 14,
   "id": "47c8d23b",
   "metadata": {},
   "outputs": [
    {
     "name": "stdout",
     "output_type": "stream",
     "text": [
      "suma: (32, 24), resta: -8, multiplicación: 240, división: 0.6\n"
     ]
    }
   ],
   "source": [
    "print(f\"suma: {suma}, resta: {resta}, multiplicación: {multiplicacion}, división: {division}\")  # f-string"
   ]
  },
  {
   "cell_type": "code",
   "execution_count": 15,
   "id": "57c982f7",
   "metadata": {},
   "outputs": [
    {
     "name": "stdout",
     "output_type": "stream",
     "text": [
      "suma: (32, 24)\n",
      "resta: -8\n",
      "multiplicación: 240\n",
      "división: 0.6\n"
     ]
    }
   ],
   "source": [
    "print(f\"suma: {suma}\")\n",
    "print(f\"resta: {resta}\")\n",
    "print(f\"multiplicación: {multiplicacion}\")\n",
    "print(f\"división: {division}\") "
   ]
  },
  {
   "cell_type": "code",
   "execution_count": 16,
   "id": "5b656f72",
   "metadata": {},
   "outputs": [],
   "source": [
    "# operadores de comparacion\n",
    "# igual a == \n",
    "# mayor >\n",
    "# menor <\n",
    "# mayor o igual que >= \n",
    "# menor o igual que <= \n",
    "# diferente de != "
   ]
  },
  {
   "cell_type": "code",
   "execution_count": 17,
   "id": "c0a5bad7",
   "metadata": {},
   "outputs": [
    {
     "data": {
      "text/plain": [
       "True"
      ]
     },
     "execution_count": 17,
     "metadata": {},
     "output_type": "execute_result"
    }
   ],
   "source": [
    "3>2"
   ]
  },
  {
   "cell_type": "code",
   "execution_count": 18,
   "id": "7b547dc6",
   "metadata": {},
   "outputs": [
    {
     "data": {
      "text/plain": [
       "False"
      ]
     },
     "execution_count": 18,
     "metadata": {},
     "output_type": "execute_result"
    }
   ],
   "source": [
    "3 != 3"
   ]
  },
  {
   "cell_type": "code",
   "execution_count": 19,
   "id": "88adbed2",
   "metadata": {},
   "outputs": [
    {
     "data": {
      "text/plain": [
       "False"
      ]
     },
     "execution_count": 19,
     "metadata": {},
     "output_type": "execute_result"
    }
   ],
   "source": [
    "number1 == number2"
   ]
  },
  {
   "cell_type": "code",
   "execution_count": 20,
   "id": "b0caeedd",
   "metadata": {},
   "outputs": [
    {
     "name": "stdout",
     "output_type": "stream",
     "text": [
      "number1 es menor que number2\n"
     ]
    }
   ],
   "source": [
    "# condicionales\n",
    "\n",
    "if number1 > number2: # syntaxe de if\n",
    "    print(\"number1 es mayor que number2\")\n",
    "elif number1 < number2: # syntaxe de elif\n",
    "    print(\"number1 es menor que number2\")\n"
   ]
  },
  {
   "cell_type": "code",
   "execution_count": 21,
   "id": "44810db3",
   "metadata": {},
   "outputs": [
    {
     "name": "stdout",
     "output_type": "stream",
     "text": [
      "12\n",
      "20\n",
      "number1 es menor que number2\n"
     ]
    }
   ],
   "source": [
    "# condicionales\n",
    "print(number1)\n",
    "print(number2)\n",
    "\n",
    "if number1 < number2: # syntaxe de if\n",
    "    print(\"number1 es menor que number2\")\n"
   ]
  },
  {
   "cell_type": "code",
   "execution_count": 22,
   "id": "aa447e77",
   "metadata": {},
   "outputs": [
    {
     "name": "stdout",
     "output_type": "stream",
     "text": [
      "12\n",
      "20\n",
      "number1 no es mayor que number2\n"
     ]
    }
   ],
   "source": [
    "# condicionales\n",
    "print(number1)\n",
    "print(number2)\n",
    "\n",
    "if number1 > number2: \n",
    "    print(\"number1 es mayor que number2\")\n",
    "else:\n",
    "    print(\"number1 no es mayor que number2\") \n"
   ]
  },
  {
   "cell_type": "code",
   "execution_count": 23,
   "id": "706a6823",
   "metadata": {},
   "outputs": [
    {
     "name": "stdout",
     "output_type": "stream",
     "text": [
      "number1 es menor que number2\n"
     ]
    }
   ],
   "source": [
    "# condicionales\n",
    "number1 = 17\n",
    "number2 = 20\n",
    "\n",
    "if number1 > number2: \n",
    "    print(\"number1 es mayor que number2\")\n",
    "elif number1 < number2:\n",
    "    print(\"number1 es menor que number2\")\n",
    "elif number1 == number2:\n",
    "    print(\"number1 es igual que number2\")\n",
    "# else:\n",
    "#     print(\"imgrese valor valido\")  # else es opcional\n"
   ]
  },
  {
   "cell_type": "code",
   "execution_count": 24,
   "id": "be955e85",
   "metadata": {},
   "outputs": [
    {
     "name": "stdout",
     "output_type": "stream",
     "text": [
      "Hola, no eres Juan pero tienes 21 años\n"
     ]
    }
   ],
   "source": [
    "# condicionales\n",
    "name = \"Ramon\"\n",
    "age = 21\n",
    "\n",
    "if name == \"Juan\" and age == 21: # syntaxe de if\n",
    "    print(\"Hola Juan, tienes 21 años\")\n",
    "elif name == \"Juan\" and age != 21:\n",
    "    print(\"Hola Juan, no tienes 21 años\")\n",
    "elif name != \"Juan\" and age == 21:\n",
    "    print(\"Hola, no eres Juan pero tienes 21 años\")\n",
    "elif name != \"Juan\" and age != 21:\n",
    "    print(\"Hola, no eres Juan y no tienes 21 años\")\n",
    "else:\n",
    "    print(\"imgrese valor valido\")\n"
   ]
  },
  {
   "cell_type": "code",
   "execution_count": 25,
   "id": "63f956a2",
   "metadata": {},
   "outputs": [
    {
     "name": "stdout",
     "output_type": "stream",
     "text": [
      "x es menor que 5\n"
     ]
    }
   ],
   "source": [
    "# condicionales\n",
    "x = 10\n",
    "y = 20\n",
    "\n",
    "if x > y:\n",
    "    print(\"x es mayor que 5\")\n",
    "elif x < y:\n",
    "    print(\"x es menor que 5\")\n",
    "\n"
   ]
  },
  {
   "cell_type": "code",
   "execution_count": 26,
   "id": "2ea3584a",
   "metadata": {},
   "outputs": [
    {
     "name": "stdout",
     "output_type": "stream",
     "text": [
      "number1 es mayor que number2\n",
      "number1 es mayor que 10\n"
     ]
    }
   ],
   "source": [
    "# condicionales anidados, no es recomendable mas de 3 niveles de anidación\n",
    "number1 = 14\n",
    "number2 = 12\n",
    "\n",
    "if number1 > number2:\n",
    "    if number1 > 10:\n",
    "        print(\"number1 es mayor que number2\") \n",
    "        print(\"number1 es mayor que 10\")"
   ]
  },
  {
   "cell_type": "code",
   "execution_count": 27,
   "id": "c3b259c0",
   "metadata": {},
   "outputs": [
    {
     "name": "stdout",
     "output_type": "stream",
     "text": [
      "number1 es mayor que number2\n",
      "number1 es mayor que 10\n"
     ]
    }
   ],
   "source": [
    "# condicionales anidados\n",
    "number1 = 14\n",
    "number2 = 12\n",
    "\n",
    "if (number1 > number2) and (number1 > 10):\n",
    "    print(\"number1 es mayor que number2\")\n",
    "    print(\"number1 es mayor que 10\")"
   ]
  },
  {
   "cell_type": "code",
   "execution_count": 28,
   "id": "87e8125c",
   "metadata": {},
   "outputs": [
    {
     "name": "stdout",
     "output_type": "stream",
     "text": [
      "number1 es mayor que number2\n"
     ]
    }
   ],
   "source": [
    "# condicionales anidados, no es recomendable mas de 3 niveles de anidación\n",
    "number1 = 14\n",
    "number2 = 12.45\n",
    "\n",
    "if number1 > number2:\n",
    "    if number1 > 10:\n",
    "        print(\"number1 es mayor que number2\") \n",
    "    else:\n",
    "        print(\"number1 no es mayor que number2\")\n",
    "else: \n",
    "    print(\"number1 no es mayor que number2\")"
   ]
  },
  {
   "cell_type": "code",
   "execution_count": 29,
   "id": "31385682",
   "metadata": {},
   "outputs": [],
   "source": [
    "# estructuras de datos\n",
    "# strings\n",
    "name = \"juan\"\n",
    "\n",
    "# metodos: tareas tipicas que se pueden realizar con un string\n",
    "# print(name.upper())  # convierte a mayúsculas   "
   ]
  },
  {
   "cell_type": "code",
   "execution_count": 30,
   "id": "55b6683d",
   "metadata": {},
   "outputs": [
    {
     "data": {
      "text/plain": [
       "str"
      ]
     },
     "execution_count": 30,
     "metadata": {},
     "output_type": "execute_result"
    }
   ],
   "source": [
    "type(name)  # str"
   ]
  },
  {
   "cell_type": "code",
   "execution_count": 31,
   "id": "83875a50",
   "metadata": {},
   "outputs": [
    {
     "name": "stdout",
     "output_type": "stream",
     "text": [
      "JUAN\n"
     ]
    }
   ],
   "source": [
    "# metodos\n",
    "name = \"juan\"\n",
    "name = name.upper()  # convierte a mayúsculas\n",
    "print(name)  # imprime el nombre en mayúsculas"
   ]
  },
  {
   "cell_type": "code",
   "execution_count": 32,
   "id": "fbea8620",
   "metadata": {},
   "outputs": [
    {
     "data": {
      "text/plain": [
       "'Juan'"
      ]
     },
     "execution_count": 32,
     "metadata": {},
     "output_type": "execute_result"
    }
   ],
   "source": [
    "name.capitalize()  # convierte la primera letra a mayúscula y el resto a minúscula\n",
    "# . es para un metodo"
   ]
  },
  {
   "cell_type": "code",
   "execution_count": 33,
   "id": "cc6239bc",
   "metadata": {},
   "outputs": [
    {
     "data": {
      "text/plain": [
       "int"
      ]
     },
     "execution_count": 33,
     "metadata": {},
     "output_type": "execute_result"
    }
   ],
   "source": [
    "type(number1) "
   ]
  },
  {
   "cell_type": "code",
   "execution_count": 34,
   "id": "11ddc0f7",
   "metadata": {},
   "outputs": [
    {
     "data": {
      "text/plain": [
       "float"
      ]
     },
     "execution_count": 34,
     "metadata": {},
     "output_type": "execute_result"
    }
   ],
   "source": [
    "type(number2) "
   ]
  },
  {
   "cell_type": "code",
   "execution_count": 35,
   "id": "75f7950d",
   "metadata": {},
   "outputs": [
    {
     "name": "stdout",
     "output_type": "stream",
     "text": [
      "['Juan', 'Pedro', 'Maria', 'Jose']\n"
     ]
    }
   ],
   "source": [
    "# listas\n",
    "name_list = [\"Juan\", \"Pedro\", \"Maria\", \"Jose\"]\n",
    "print(name_list)  # imprime la lista completa"
   ]
  },
  {
   "cell_type": "code",
   "execution_count": 36,
   "id": "91f4a5b4",
   "metadata": {},
   "outputs": [
    {
     "name": "stdout",
     "output_type": "stream",
     "text": [
      "[21, 22, 23, 24]\n"
     ]
    }
   ],
   "source": [
    "age_list = [21, 22, 23, 24]\n",
    "print(age_list)  # imprime la lista completa"
   ]
  },
  {
   "cell_type": "code",
   "execution_count": 37,
   "id": "ce9251e3",
   "metadata": {},
   "outputs": [],
   "source": [
    "name_list.append(\"Luis\")  # agrega un elemento al final de la lista\n",
    "# print(name_list)  # imprime la lista completa"
   ]
  },
  {
   "cell_type": "code",
   "execution_count": 38,
   "id": "82f13a4f",
   "metadata": {},
   "outputs": [
    {
     "data": {
      "text/plain": [
       "['Juan', 'Pedro', 'Maria', 'Jose', 'Luis']"
      ]
     },
     "execution_count": 38,
     "metadata": {},
     "output_type": "execute_result"
    }
   ],
   "source": [
    "name_list"
   ]
  },
  {
   "cell_type": "code",
   "execution_count": 39,
   "id": "66b7005e",
   "metadata": {},
   "outputs": [],
   "source": [
    "age_list = [\n",
    "    23,\n",
    "    21,\n",
    "    22,\n",
    "    50,\n",
    "]"
   ]
  },
  {
   "cell_type": "code",
   "execution_count": 40,
   "id": "457ae167",
   "metadata": {},
   "outputs": [
    {
     "name": "stdout",
     "output_type": "stream",
     "text": [
      "Juan\n",
      "Pedro\n",
      "Maria\n",
      "Jose\n"
     ]
    }
   ],
   "source": [
    "# indices de listas\n",
    "print(name_list[0])  # imprime el primer elemento de la lista\n",
    "print(name_list[1])  # imprime el segundo elemento de la lista\n",
    "print(name_list[2])  # imprime el tercer elemento de la lista\n",
    "print(name_list[3])  # imprime el cuarto elemento de la lista"
   ]
  },
  {
   "cell_type": "code",
   "execution_count": 41,
   "id": "07d82ea7",
   "metadata": {},
   "outputs": [
    {
     "name": "stdout",
     "output_type": "stream",
     "text": [
      "Luis\n",
      "Jose\n",
      "Maria\n",
      "Pedro\n"
     ]
    }
   ],
   "source": [
    "# indeces negativos de listas\n",
    "print(name_list[-1])  # imprime el último elemento de la lista\n",
    "print(name_list[-2])  # imprime el penúltimo elemento de la lista   \n",
    "print(name_list[-3])  # imprime el antepenúltimo elemento de la lista\n",
    "print(name_list[-4])  # imprime el anteantepenúltimo elemento de la lista"
   ]
  },
  {
   "cell_type": "code",
   "execution_count": 42,
   "id": "0011c877",
   "metadata": {},
   "outputs": [
    {
     "data": {
      "text/plain": [
       "'Pedro'"
      ]
     },
     "execution_count": 42,
     "metadata": {},
     "output_type": "execute_result"
    }
   ],
   "source": [
    "# ver que posicion ocupa un elemento en la lista\n",
    "name_list[1]"
   ]
  },
  {
   "cell_type": "code",
   "execution_count": 43,
   "id": "53d0fd42",
   "metadata": {},
   "outputs": [
    {
     "data": {
      "text/plain": [
       "'Juan'"
      ]
     },
     "execution_count": 43,
     "metadata": {},
     "output_type": "execute_result"
    }
   ],
   "source": [
    "name_list[0]  # imprime el primer elemento de la lista"
   ]
  },
  {
   "cell_type": "code",
   "execution_count": 44,
   "id": "537f0c99",
   "metadata": {},
   "outputs": [
    {
     "data": {
      "text/plain": [
       "'Luis'"
      ]
     },
     "execution_count": 44,
     "metadata": {},
     "output_type": "execute_result"
    }
   ],
   "source": [
    "name_list[-1]"
   ]
  },
  {
   "cell_type": "code",
   "execution_count": 45,
   "id": "954df579",
   "metadata": {},
   "outputs": [
    {
     "data": {
      "text/plain": [
       "['Juan', 'Pedro', 'Maria', 'Jose', 'Luis']"
      ]
     },
     "execution_count": 45,
     "metadata": {},
     "output_type": "execute_result"
    }
   ],
   "source": [
    "name_list"
   ]
  },
  {
   "cell_type": "code",
   "execution_count": 46,
   "id": "38ee2fad",
   "metadata": {},
   "outputs": [
    {
     "name": "stdout",
     "output_type": "stream",
     "text": [
      "['Juan', 'Pedro']\n"
     ]
    }
   ],
   "source": [
    "# slice de listas\n",
    "print(name_list[0:2])  # imprime los elementos de la lista desde el índice 0 hasta el índice 2 (sin incluir el índice 2)\n",
    "# el numero 0 es el punto de inicio y el 2 es el punto de fin, no toma el valor del fin"
   ]
  },
  {
   "cell_type": "code",
   "execution_count": 47,
   "id": "67ecdac2",
   "metadata": {},
   "outputs": [
    {
     "name": "stdout",
     "output_type": "stream",
     "text": [
      "['Juan', 'Pedro', 'Maria']\n"
     ]
    }
   ],
   "source": [
    "print(name_list[0:3])  # imprime los elementos de la lista desde el índice 0 hasta el índice 3 (sin incluir el índice 3)"
   ]
  },
  {
   "cell_type": "code",
   "execution_count": 48,
   "id": "fd85b024",
   "metadata": {},
   "outputs": [
    {
     "name": "stdout",
     "output_type": "stream",
     "text": [
      "['Juan', 'Pedro', 'Maria']\n"
     ]
    }
   ],
   "source": [
    "print(name_list[:3])  "
   ]
  },
  {
   "cell_type": "code",
   "execution_count": 49,
   "id": "29029e49",
   "metadata": {},
   "outputs": [
    {
     "name": "stdout",
     "output_type": "stream",
     "text": [
      "['Jose', 'Luis']\n"
     ]
    }
   ],
   "source": [
    "print(name_list[3:])  # imprime los elementos de la lista desde el índice 3 hasta el final de la lista"
   ]
  },
  {
   "cell_type": "code",
   "execution_count": 50,
   "id": "8e2f5d2a",
   "metadata": {},
   "outputs": [
    {
     "data": {
      "text/plain": [
       "5"
      ]
     },
     "execution_count": 50,
     "metadata": {},
     "output_type": "execute_result"
    }
   ],
   "source": [
    "len(name_list)  # imprime la longitud de la lista"
   ]
  },
  {
   "cell_type": "code",
   "execution_count": 51,
   "id": "e2560c9b",
   "metadata": {},
   "outputs": [
    {
     "name": "stdout",
     "output_type": "stream",
     "text": [
      "0\n",
      "1\n",
      "2\n"
     ]
    }
   ],
   "source": [
    "# ciclos finitos\n",
    "# for\n",
    "for i in range(3): # imprime los números del 0 al 2\n",
    "    print(i) "
   ]
  },
  {
   "cell_type": "code",
   "execution_count": 52,
   "id": "b97b3aed",
   "metadata": {},
   "outputs": [
    {
     "name": "stdout",
     "output_type": "stream",
     "text": [
      "Juan\n",
      "Pedro\n",
      "Maria\n",
      "Jose\n",
      "Luis\n"
     ]
    }
   ],
   "source": [
    "# ciclos finitos\n",
    "# for\n",
    "for name in name_list: # imprime los elementos de la lista\n",
    "    print(name)  # imprime el elemento de la lista\n",
    "\n",
    "    # var variable de iteracion, puede ser cualquier nombre, es la pinza que agarra el elemento de la lista\n",
    "    # name_list es la lista que se va a iterar\n",
    "    # el nombre de la variable de iteracion no importa, puede ser cualquier nombre, \n",
    "    # es mejor si se usa el mismo nombre que la lista o un elemento de la lista"
   ]
  },
  {
   "cell_type": "code",
   "execution_count": 53,
   "id": "66d948b7",
   "metadata": {},
   "outputs": [
    {
     "name": "stdout",
     "output_type": "stream",
     "text": [
      "2\n"
     ]
    }
   ],
   "source": [
    "# ciclos finitos\n",
    "for name in name_list:   \n",
    "    if name == \"Maria\":\n",
    "        # imprime la posicion de Maria en la lista\n",
    "        print(name_list.index(name))\n",
    "    \n"
   ]
  },
  {
   "cell_type": "code",
   "execution_count": 54,
   "id": "3167444c",
   "metadata": {},
   "outputs": [
    {
     "name": "stdout",
     "output_type": "stream",
     "text": [
      "hola\n",
      "hola\n"
     ]
    }
   ],
   "source": [
    "# recorrido de una lista por indices\n",
    "for item in range(2):\n",
    "    print(\"hola\")"
   ]
  },
  {
   "cell_type": "code",
   "execution_count": 55,
   "id": "ad3368fb",
   "metadata": {},
   "outputs": [
    {
     "name": "stdout",
     "output_type": "stream",
     "text": [
      "0\n",
      "1\n",
      "2\n",
      "3\n",
      "4\n"
     ]
    }
   ],
   "source": [
    "# recorrido de una lista por indices\n",
    "for item in range(len(name_list)):  # imprime los elementos de la lista por indices\n",
    "    print(item)  # imprime el elemento de la lista por indice\n",
    "\n",
    "    # controlar la AI ctr + flecha derecha"
   ]
  },
  {
   "cell_type": "code",
   "execution_count": 56,
   "id": "2f4b966e",
   "metadata": {},
   "outputs": [
    {
     "name": "stdout",
     "output_type": "stream",
     "text": [
      "Juan\n",
      "Pedro\n",
      "Maria\n",
      "Jose\n",
      "Luis\n"
     ]
    }
   ],
   "source": [
    "# recorrido de una lista por indices\n",
    "for item in range(len(name_list)):  # imprime los elementos de la lista por indices\n",
    "    print(name_list[item]) "
   ]
  },
  {
   "cell_type": "code",
   "execution_count": 57,
   "id": "56466106",
   "metadata": {},
   "outputs": [
    {
     "name": "stdout",
     "output_type": "stream",
     "text": [
      "Jose\n",
      "3\n"
     ]
    }
   ],
   "source": [
    "# recorrido de una lista por indices\n",
    "for item in range(len(name_list)):  # imprime los elementos de la lista por indices\n",
    "    if name_list[item] == \"Jose\":\n",
    "        print(name_list[item])\n",
    "        print(item)  # imprime el elemento de la lista por indice"
   ]
  },
  {
   "cell_type": "code",
   "execution_count": 58,
   "id": "45c36c55",
   "metadata": {},
   "outputs": [
    {
     "name": "stdout",
     "output_type": "stream",
     "text": [
      "5\n",
      "6\n",
      "7\n",
      "8\n",
      "9\n",
      "10\n"
     ]
    }
   ],
   "source": [
    "# rango de valores con range\n",
    "for i in range(5,11): \n",
    "    print(i)  # imprime el elemento de la lista por indice"
   ]
  },
  {
   "cell_type": "code",
   "execution_count": 59,
   "id": "caf7d734",
   "metadata": {},
   "outputs": [],
   "source": [
    "# hacer repositorio de todo esto"
   ]
  }
 ],
 "metadata": {
  "kernelspec": {
   "display_name": "Python 3",
   "language": "python",
   "name": "python3"
  },
  "language_info": {
   "codemirror_mode": {
    "name": "ipython",
    "version": 3
   },
   "file_extension": ".py",
   "mimetype": "text/x-python",
   "name": "python",
   "nbconvert_exporter": "python",
   "pygments_lexer": "ipython3",
   "version": "3.13.2"
  }
 },
 "nbformat": 4,
 "nbformat_minor": 5
}
